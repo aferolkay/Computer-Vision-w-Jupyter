{
 "cells": [
  {
   "cell_type": "code",
   "execution_count": 19,
   "metadata": {},
   "outputs": [],
   "source": [
    "import cv2\n",
    "import numpy as np\n",
    "\n",
    "from sklearn.metrics import pairwise"
   ]
  },
  {
   "cell_type": "code",
   "execution_count": 2,
   "metadata": {},
   "outputs": [],
   "source": [
    "background = None\n",
    "\n",
    "accumulated_weight = 0.5\n",
    "\n",
    "roi_top = 20\n",
    "roi_bottom=300\n",
    "roi_right=50\n",
    "roi_left=350"
   ]
  },
  {
   "cell_type": "code",
   "execution_count": 3,
   "metadata": {},
   "outputs": [],
   "source": [
    "def calc_accum_avg(frame , accumulated_weight):\n",
    "    global background\n",
    "    \n",
    "    if background is None:\n",
    "        background = frame.copy().astype(\"float\")\n",
    "        return None\n",
    "    \n",
    "    cv2.accumulateWeighted(frame , background , accumulated_weight)"
   ]
  },
  {
   "cell_type": "code",
   "execution_count": 4,
   "metadata": {},
   "outputs": [],
   "source": [
    "def segment(frame , threshold_min=25):\n",
    "    \n",
    "    diff = cv2.absdiff(background.astype(\"uint8\"),frame)\n",
    "    \n",
    "    ret,thresholded = cv2.threshold(diff , threshold_min , 255 , cv2.THRESH_BINARY)\n",
    "    \n",
    "    image , contours , hierarchy = cv2.findContours(thresholded.copy() , cv2.RETR_EXTERNAL , cv2.CHAIN_APPROX_SIMPLE)\n",
    "    \n",
    "    if len(contours) == 0 : \n",
    "        return None\n",
    "    \n",
    "    else:\n",
    "        # ASSUMING THE LARGEST EXTERNAN CONTOUR IN ROI IS THE HAND\n",
    "        hand_segment = max(contours , key=cv2.contourArea)\n",
    "        \n",
    "        return (thresholded , hand_segment)"
   ]
  },
  {
   "cell_type": "code",
   "execution_count": 5,
   "metadata": {},
   "outputs": [],
   "source": [
    "def count_finger(thresholded , hand_segment):\n",
    "    \n",
    "    conv_hull = cv2.convexHull(hand_segment)\n",
    "   \n",
    "    # TOP , check documentation if you want to understand\n",
    "    #top =    tuple(conv_hull[ conv_hull[:,:,1].argmin() ])[0]\n",
    "    #bottom = tuple(conv_hull[ conv_hull[:,:,1].argmax() ])[0]\n",
    "    #left =   tuple(conv_hull[ conv_hull[:,:,0].argmin() ])[0]\n",
    "    #right =  tuple(conv_hull[ conv_hull[:,:,0].argmax() ])[0]\n",
    "    top =    tuple(conv_hull[ conv_hull[:,:,1].argmin() ][0])\n",
    "    bottom = tuple(conv_hull[ conv_hull[:,:,1].argmax() ][0])\n",
    "    left =   tuple(conv_hull[ conv_hull[:,:,0].argmin() ][0])\n",
    "    right =  tuple(conv_hull[ conv_hull[:,:,0].argmax() ][0]) \n",
    "    \n",
    "    cX = ( left[0] + right[0] )//2\n",
    "    cY = ( top[1] + bottom[1] )//2\n",
    "    \n",
    "    distance = pairwise.euclidean_distances( [[cX,cY]] , Y=[left,right,top,bottom])[0]\n",
    "    \n",
    "    max_distance = distance.max()\n",
    "    \n",
    "    radius = int(0.9*max_distance)\n",
    "    circumference = (2*np.pi*radius)\n",
    "    \n",
    "    #circular_roi = np.zeros( thresholded[:2] , dtype=\"uint8\")\n",
    "    circular_roi = np.zeros( thresholded.shape , dtype=\"uint8\")\n",
    "    \n",
    "    cv2.circle(circular_roi,(cX,cY),radius,255,10)\n",
    "    \n",
    "    circular_roi = cv2.bitwise_and(thresholded,thresholded,mask=circular_roi)\n",
    "    \n",
    "    image,contours,hiearchy = cv2.findContours(circular_roi.copy(),cv2.RETR_EXTERNAL,cv2.CHAIN_APPROX_NONE)\n",
    "    \n",
    "    count = 0\n",
    "    \n",
    "    for cnt in contours:\n",
    "        \n",
    "        (x,y,w,h) = cv2.boundingRect(cnt)\n",
    "        \n",
    "        out_of_wrist = (cY*1.25) > (y+h)\n",
    "        \n",
    "        limit_points = ( circumference*0.25 > cnt.shape[0]   )\n",
    "        \n",
    "        if out_of_wrist and limit_points:\n",
    "            count+=1\n",
    "            \n",
    "    return count"
   ]
  },
  {
   "cell_type": "code",
   "execution_count": 6,
   "metadata": {},
   "outputs": [],
   "source": [
    "def count_fingers(thresholded , hand_segment):\n",
    "    \n",
    "    conv_hull = cv2.convexHull(hand_segment)\n",
    "        \n",
    "    #top = tuple( conv_hull[ conv_hull[:,:,1].argmin()[0] ] )\n",
    "\n",
    "    count = 1\n",
    "    \n",
    "    return count"
   ]
  },
  {
   "cell_type": "code",
   "execution_count": 18,
   "metadata": {},
   "outputs": [],
   "source": [
    "cam = cv2.VideoCapture(0)\n",
    "\n",
    "num_frames = 0\n",
    "\n",
    "while True:\n",
    "    \n",
    "    ret , frame = cam.read()\n",
    "    \n",
    "    frame_copy = frame.copy()\n",
    "    \n",
    "    roi = frame[roi_top:roi_bottom , roi_right:roi_left]\n",
    "    \n",
    "    gray = cv2.cvtColor(roi , cv2.COLOR_BGR2GRAY)\n",
    "    \n",
    "    gray = cv2.GaussianBlur(gray, (7,7) , 0)\n",
    "    \n",
    "    if num_frames < 60 :\n",
    "        calc_accum_avg(gray,accumulated_weight)\n",
    "        \n",
    "        if num_frames <= 59:\n",
    "            cv2.putText(frame_copy,\"WAIT. GETTING BACKGROUND\",(20,300),cv2.FONT_HERSHEY_SIMPLEX,1,(0,0,255),2)\n",
    "            cv2.imshow(\"Finger Count\",frame_copy)\n",
    "    else:\n",
    "        \n",
    "        hand = segment(gray,threshold_min=5)\n",
    "        \n",
    "        if hand is not None:\n",
    "            \n",
    "            thresholded , hand_segment = hand\n",
    "            \n",
    "            # DRAWS CONTOURS AROUND REAL HAND IN LIVE STREAM\n",
    "            cv2.drawContours(frame_copy , [hand_segment+(roi_right,roi_top)] , -1 , (255,0,0) , 5)\n",
    "            \n",
    "            fingers = count_finger(thresholded , hand_segment)\n",
    "            \n",
    "            cv2.putText( frame_copy , str(fingers) , (70,50) , cv2.FONT_HERSHEY_SIMPLEX , 1 , (0,0,255) , 2 )\n",
    "            \n",
    "            cv2.imshow( \"Thresholded\" , thresholded )\n",
    "            \n",
    "    cv2.rectangle( frame_copy , (roi_left,roi_top) , (roi_right,roi_bottom) , (0,0,255) , 5 )\n",
    "    \n",
    "    num_frames += 1\n",
    "    \n",
    "    cv2.imshow(\"Finger Count\" , frame_copy)\n",
    "    \n",
    "    if cv2.waitKey(1) & 0xFF == 27:\n",
    "        break\n",
    "        \n",
    "cam.release()\n",
    "cv2.destroyAllWindows()"
   ]
  },
  {
   "cell_type": "code",
   "execution_count": 20,
   "metadata": {},
   "outputs": [
    {
     "data": {
      "text/plain": [
       "array([1, 1])"
      ]
     },
     "execution_count": 20,
     "metadata": {},
     "output_type": "execute_result"
    }
   ],
   "source": [
    "np.array([1,1])"
   ]
  },
  {
   "cell_type": "code",
   "execution_count": 26,
   "metadata": {},
   "outputs": [],
   "source": [
    "donem1_kredi =np.array([5,4,4,4,4])\n",
    "donem1_not = np.array([4,4,4,4,4])\n",
    "\n",
    "donem2_kredi =np.array( [5,4,4,3,3])\n",
    "donem2_not = np.array([3.5,4,4,3,4])\n",
    "\n",
    "donem3_kredi = np.array([4,4,3,3,3,2])\n",
    "donem3_not = np.array([3,3,4,3.5,3,4])\n",
    "\n",
    "donem4_kredi = np.array([])\n",
    "donem4_not = np.array([])\n",
    "\n",
    "donem5_kredi = np.array([4,3,3,3])\n",
    "donem5_not = np.array([3,3,2.5,3.5])\n",
    "\n",
    "donem6_kredi = np.array([4,4,3,2])\n",
    "donem6_not =np.array( [3.5,4,3.5,2.5])\n",
    "\n",
    "donem7_kredi = np.array([4,3,3,3,2])\n",
    "donem7_not = np.array([3,4,3,3,3])\n",
    "\n",
    "donem8_kredi = np.array([4,3,3,3])\n",
    "donem8_not = np.array([4,4,3.5,4])\n",
    "\n"
   ]
  },
  {
   "cell_type": "code",
   "execution_count": 30,
   "metadata": {},
   "outputs": [
    {
     "data": {
      "text/plain": [
       "4.0"
      ]
     },
     "execution_count": 30,
     "metadata": {},
     "output_type": "execute_result"
    }
   ],
   "source": [
    "sum(donem1_kredi * donem1_not ) / sum(donem1_kredi)"
   ]
  },
  {
   "cell_type": "code",
   "execution_count": 37,
   "metadata": {},
   "outputs": [],
   "source": [
    "A = (sum(donem1_kredi * donem1_not )+\n",
    "    sum(donem2_kredi * donem2_not )+\n",
    "    sum(donem3_kredi * donem3_not )+\n",
    "    sum(donem5_kredi * donem5_not )+\n",
    "    sum(donem6_kredi * donem6_not )+\n",
    "    sum(donem7_kredi * donem7_not )+\n",
    "    sum(donem8_kredi * donem8_not ))\n",
    "\n",
    "B = (sum(donem1_kredi)+\n",
    "    sum(donem2_kredi)+\n",
    "    sum(donem3_kredi)+\n",
    "    sum(donem5_kredi)+\n",
    "    sum(donem6_kredi)+\n",
    "    sum(donem7_kredi)+\n",
    "    sum(donem8_kredi))"
   ]
  },
  {
   "cell_type": "code",
   "execution_count": 40,
   "metadata": {},
   "outputs": [
    {
     "data": {
      "text/plain": [
       "3.5486725663716814"
      ]
     },
     "execution_count": 40,
     "metadata": {},
     "output_type": "execute_result"
    }
   ],
   "source": [
    "pre_son_donem = A/B\n",
    "pre_son_donem"
   ]
  },
  {
   "cell_type": "code",
   "execution_count": 59,
   "metadata": {},
   "outputs": [],
   "source": [
    "feedback = 2.5\n",
    "os = 3\n",
    "comparc = 3\n",
    "capstone = 4\n",
    "\n",
    "donem10_kredi = np.array([3,3,4,3])\n",
    "donem10_not = np.array([feedback,os,comparc,capstone])"
   ]
  },
  {
   "cell_type": "code",
   "execution_count": 60,
   "metadata": {},
   "outputs": [
    {
     "data": {
      "text/plain": [
       "3.503968253968254"
      ]
     },
     "execution_count": 60,
     "metadata": {},
     "output_type": "execute_result"
    }
   ],
   "source": [
    "tahmin = ( A + sum(donem10_kredi*donem10_not) ) / ( B+sum(donem10_kredi) )\n",
    "tahmin"
   ]
  },
  {
   "cell_type": "code",
   "execution_count": null,
   "metadata": {},
   "outputs": [],
   "source": []
  }
 ],
 "metadata": {
  "kernelspec": {
   "display_name": "Python 3",
   "language": "python",
   "name": "python3"
  },
  "language_info": {
   "codemirror_mode": {
    "name": "ipython",
    "version": 3
   },
   "file_extension": ".py",
   "mimetype": "text/x-python",
   "name": "python",
   "nbconvert_exporter": "python",
   "pygments_lexer": "ipython3",
   "version": "3.6.6"
  }
 },
 "nbformat": 4,
 "nbformat_minor": 2
}
