{
 "cells": [
  {
   "cell_type": "code",
   "execution_count": 1,
   "metadata": {},
   "outputs": [],
   "source": [
    "import numpy as np\n",
    "from numpy import genfromtxt"
   ]
  },
  {
   "cell_type": "code",
   "execution_count": 2,
   "metadata": {},
   "outputs": [
    {
     "data": {
      "text/plain": [
       "array([[  3.6216 ,   8.6661 ,  -2.8073 ,  -0.44699,   0.     ],\n",
       "       [  4.5459 ,   8.1674 ,  -2.4586 ,  -1.4621 ,   0.     ],\n",
       "       [  3.866  ,  -2.6383 ,   1.9242 ,   0.10645,   0.     ],\n",
       "       ...,\n",
       "       [ -3.7503 , -13.4586 ,  17.5932 ,  -2.7771 ,   1.     ],\n",
       "       [ -3.5637 ,  -8.3827 ,  12.393  ,  -1.2823 ,   1.     ],\n",
       "       [ -2.5419 ,  -0.65804,   2.6842 ,   1.1952 ,   1.     ]])"
      ]
     },
     "execution_count": 2,
     "metadata": {},
     "output_type": "execute_result"
    }
   ],
   "source": [
    "data = genfromtxt(\"DATA/bank_note_data.txt\", delimiter=\",\")\n",
    "data\n"
   ]
  },
  {
   "cell_type": "code",
   "execution_count": 3,
   "metadata": {},
   "outputs": [
    {
     "data": {
      "text/plain": [
       "array([0., 0., 0., ..., 1., 1., 1.])"
      ]
     },
     "execution_count": 3,
     "metadata": {},
     "output_type": "execute_result"
    }
   ],
   "source": [
    "labels = data[:,4]\n",
    "labels"
   ]
  },
  {
   "cell_type": "code",
   "execution_count": 5,
   "metadata": {},
   "outputs": [
    {
     "data": {
      "text/plain": [
       "array([[  3.6216 ,   8.6661 ,  -2.8073 ,  -0.44699],\n",
       "       [  4.5459 ,   8.1674 ,  -2.4586 ,  -1.4621 ],\n",
       "       [  3.866  ,  -2.6383 ,   1.9242 ,   0.10645],\n",
       "       ...,\n",
       "       [ -3.7503 , -13.4586 ,  17.5932 ,  -2.7771 ],\n",
       "       [ -3.5637 ,  -8.3827 ,  12.393  ,  -1.2823 ],\n",
       "       [ -2.5419 ,  -0.65804,   2.6842 ,   1.1952 ]])"
      ]
     },
     "execution_count": 5,
     "metadata": {},
     "output_type": "execute_result"
    }
   ],
   "source": [
    "features = data[:,0:4]\n",
    "features"
   ]
  },
  {
   "cell_type": "code",
   "execution_count": 6,
   "metadata": {},
   "outputs": [],
   "source": [
    "X = features\n",
    "y = labels"
   ]
  },
  {
   "cell_type": "code",
   "execution_count": 7,
   "metadata": {},
   "outputs": [],
   "source": [
    "from sklearn.model_selection import train_test_split"
   ]
  },
  {
   "cell_type": "code",
   "execution_count": 8,
   "metadata": {},
   "outputs": [],
   "source": [
    "X_train, X_test, y_train, y_test = train_test_split(X, y, test_size=0.33, random_state=42)"
   ]
  },
  {
   "cell_type": "code",
   "execution_count": 11,
   "metadata": {},
   "outputs": [
    {
     "data": {
      "text/plain": [
       "919"
      ]
     },
     "execution_count": 11,
     "metadata": {},
     "output_type": "execute_result"
    }
   ],
   "source": [
    "len(X_train)"
   ]
  },
  {
   "cell_type": "code",
   "execution_count": 12,
   "metadata": {},
   "outputs": [
    {
     "data": {
      "text/plain": [
       "1372"
      ]
     },
     "execution_count": 12,
     "metadata": {},
     "output_type": "execute_result"
    }
   ],
   "source": [
    "len(X)"
   ]
  },
  {
   "cell_type": "code",
   "execution_count": 13,
   "metadata": {},
   "outputs": [
    {
     "data": {
      "text/plain": [
       "453"
      ]
     },
     "execution_count": 13,
     "metadata": {},
     "output_type": "execute_result"
    }
   ],
   "source": [
    "len(X_test)"
   ]
  },
  {
   "cell_type": "code",
   "execution_count": 15,
   "metadata": {},
   "outputs": [],
   "source": [
    "from sklearn.preprocessing import MinMaxScaler"
   ]
  },
  {
   "cell_type": "code",
   "execution_count": 16,
   "metadata": {},
   "outputs": [],
   "source": [
    "scaler_object = MinMaxScaler()"
   ]
  },
  {
   "cell_type": "code",
   "execution_count": 17,
   "metadata": {},
   "outputs": [
    {
     "data": {
      "text/plain": [
       "MinMaxScaler(copy=True, feature_range=(0, 1))"
      ]
     },
     "execution_count": 17,
     "metadata": {},
     "output_type": "execute_result"
    }
   ],
   "source": [
    "scaler_object.fit(X_train)"
   ]
  },
  {
   "cell_type": "code",
   "execution_count": 19,
   "metadata": {},
   "outputs": [],
   "source": [
    "scaled_X_train = scaler_object.transform(X_train)"
   ]
  },
  {
   "cell_type": "code",
   "execution_count": 20,
   "metadata": {},
   "outputs": [],
   "source": [
    "scaled_X_test = scaler_object.transform(X_test)"
   ]
  },
  {
   "cell_type": "code",
   "execution_count": 21,
   "metadata": {},
   "outputs": [
    {
     "data": {
      "text/plain": [
       "1.0000000000000002"
      ]
     },
     "execution_count": 21,
     "metadata": {},
     "output_type": "execute_result"
    }
   ],
   "source": [
    "scaled_X_train.max()"
   ]
  },
  {
   "cell_type": "code",
   "execution_count": 22,
   "metadata": {},
   "outputs": [
    {
     "data": {
      "text/plain": [
       "array([[-0.8734  , -0.033118, -0.20165 ,  0.55774 ],\n",
       "       [ 2.0177  ,  1.7982  , -2.9581  ,  0.2099  ],\n",
       "       [-0.36038 ,  4.1158  ,  3.1143  , -0.37199 ],\n",
       "       ...,\n",
       "       [-7.0364  ,  9.2931  ,  0.16594 , -4.5396  ],\n",
       "       [-3.4605  ,  2.6901  ,  0.16165 , -1.0224  ],\n",
       "       [-3.3582  , -7.2404  , 11.4419  , -0.57113 ]])"
      ]
     },
     "execution_count": 22,
     "metadata": {},
     "output_type": "execute_result"
    }
   ],
   "source": [
    "X_train"
   ]
  },
  {
   "cell_type": "code",
   "execution_count": 23,
   "metadata": {},
   "outputs": [
    {
     "data": {
      "text/plain": [
       "array([[4.44850688e-01, 5.14130449e-01, 2.18194638e-01, 8.50172258e-01],\n",
       "       [6.53339968e-01, 5.82655745e-01, 9.93242398e-02, 8.17696322e-01],\n",
       "       [4.81846700e-01, 6.69377018e-01, 3.61193167e-01, 7.63368407e-01],\n",
       "       ...,\n",
       "       [4.11050776e-04, 8.63104170e-01, 2.34046756e-01, 3.74261253e-01],\n",
       "       [2.58284115e-01, 6.16029366e-01, 2.33861752e-01, 7.02643151e-01],\n",
       "       [2.65661395e-01, 2.44444278e-01, 7.20316361e-01, 7.44775785e-01]])"
      ]
     },
     "execution_count": 23,
     "metadata": {},
     "output_type": "execute_result"
    }
   ],
   "source": [
    "scaled_X_train"
   ]
  },
  {
   "cell_type": "code",
   "execution_count": 25,
   "metadata": {},
   "outputs": [],
   "source": [
    "from keras.models import Sequential\n",
    "from keras.layers import Dense"
   ]
  },
  {
   "cell_type": "code",
   "execution_count": 28,
   "metadata": {},
   "outputs": [],
   "source": [
    "model = Sequential()\n",
    "\n",
    "model.add( Dense( 4 , input_dim=4 , activation=\"relu\")   )\n",
    "\n",
    "model.add(Dense(8,activation = \"relu\"))\n",
    "\n",
    "model.add( Dense(1,activation=\"sigmoid\") )"
   ]
  },
  {
   "cell_type": "code",
   "execution_count": 29,
   "metadata": {},
   "outputs": [],
   "source": [
    "model.compile(loss=\"binary_crossentropy\",optimizer=\"adam\",metrics=[\"accuracy\"])"
   ]
  },
  {
   "cell_type": "code",
   "execution_count": 43,
   "metadata": {},
   "outputs": [
    {
     "name": "stdout",
     "output_type": "stream",
     "text": [
      "Epoch 1/100\n",
      " - 0s - loss: 0.2335 - acc: 0.9815\n",
      "Epoch 2/100\n",
      " - 0s - loss: 0.2281 - acc: 0.9793\n",
      "Epoch 3/100\n",
      " - 0s - loss: 0.2220 - acc: 0.9848\n",
      "Epoch 4/100\n",
      " - 0s - loss: 0.2174 - acc: 0.9815\n",
      "Epoch 5/100\n",
      " - 0s - loss: 0.2115 - acc: 0.9848\n",
      "Epoch 6/100\n",
      " - 0s - loss: 0.2069 - acc: 0.9859\n",
      "Epoch 7/100\n",
      " - 0s - loss: 0.2020 - acc: 0.9848\n",
      "Epoch 8/100\n",
      " - 0s - loss: 0.1970 - acc: 0.9859\n",
      "Epoch 9/100\n",
      " - 0s - loss: 0.1940 - acc: 0.9859\n",
      "Epoch 10/100\n",
      " - 0s - loss: 0.1899 - acc: 0.9891\n",
      "Epoch 11/100\n",
      " - 0s - loss: 0.1847 - acc: 0.9880\n",
      "Epoch 12/100\n",
      " - 0s - loss: 0.1806 - acc: 0.9902\n",
      "Epoch 13/100\n",
      " - 0s - loss: 0.1769 - acc: 0.9924\n",
      "Epoch 14/100\n",
      " - 0s - loss: 0.1732 - acc: 0.9924\n",
      "Epoch 15/100\n",
      " - 0s - loss: 0.1695 - acc: 0.9902\n",
      "Epoch 16/100\n",
      " - 0s - loss: 0.1662 - acc: 0.9924\n",
      "Epoch 17/100\n",
      " - 0s - loss: 0.1625 - acc: 0.9902\n",
      "Epoch 18/100\n",
      " - 0s - loss: 0.1590 - acc: 0.9935\n",
      "Epoch 19/100\n",
      " - 0s - loss: 0.1565 - acc: 0.9924\n",
      "Epoch 20/100\n",
      " - 0s - loss: 0.1531 - acc: 0.9946\n",
      "Epoch 21/100\n",
      " - 0s - loss: 0.1504 - acc: 0.9913\n",
      "Epoch 22/100\n",
      " - 0s - loss: 0.1468 - acc: 0.9946\n",
      "Epoch 23/100\n",
      " - 0s - loss: 0.1442 - acc: 0.9946\n",
      "Epoch 24/100\n",
      " - 0s - loss: 0.1413 - acc: 0.9946\n",
      "Epoch 25/100\n",
      " - 0s - loss: 0.1389 - acc: 0.9946\n",
      "Epoch 26/100\n",
      " - 0s - loss: 0.1361 - acc: 0.9946\n",
      "Epoch 27/100\n",
      " - 0s - loss: 0.1335 - acc: 0.9946\n",
      "Epoch 28/100\n",
      " - 0s - loss: 0.1312 - acc: 0.9946\n",
      "Epoch 29/100\n",
      " - 0s - loss: 0.1287 - acc: 0.9946\n",
      "Epoch 30/100\n",
      " - 0s - loss: 0.1260 - acc: 0.9946\n",
      "Epoch 31/100\n",
      " - 0s - loss: 0.1238 - acc: 0.9946\n",
      "Epoch 32/100\n",
      " - 0s - loss: 0.1214 - acc: 0.9946\n",
      "Epoch 33/100\n",
      " - 0s - loss: 0.1193 - acc: 0.9946\n",
      "Epoch 34/100\n",
      " - 0s - loss: 0.1173 - acc: 0.9946\n",
      "Epoch 35/100\n",
      " - 0s - loss: 0.1147 - acc: 0.9946\n",
      "Epoch 36/100\n",
      " - 0s - loss: 0.1129 - acc: 0.9946\n",
      "Epoch 37/100\n",
      " - 0s - loss: 0.1106 - acc: 0.9946\n",
      "Epoch 38/100\n",
      " - 0s - loss: 0.1087 - acc: 0.9946\n",
      "Epoch 39/100\n",
      " - 0s - loss: 0.1068 - acc: 0.9946\n",
      "Epoch 40/100\n",
      " - 0s - loss: 0.1053 - acc: 0.9946\n",
      "Epoch 41/100\n",
      " - 0s - loss: 0.1030 - acc: 0.9946\n",
      "Epoch 42/100\n",
      " - 0s - loss: 0.1015 - acc: 0.9946\n",
      "Epoch 43/100\n",
      " - 0s - loss: 0.0998 - acc: 0.9946\n",
      "Epoch 44/100\n",
      " - 0s - loss: 0.0981 - acc: 0.9946\n",
      "Epoch 45/100\n",
      " - 0s - loss: 0.0963 - acc: 0.9956\n",
      "Epoch 46/100\n",
      " - 0s - loss: 0.0943 - acc: 0.9946\n",
      "Epoch 47/100\n",
      " - 0s - loss: 0.0925 - acc: 0.9946\n",
      "Epoch 48/100\n",
      " - 0s - loss: 0.0910 - acc: 0.9946\n",
      "Epoch 49/100\n",
      " - 0s - loss: 0.0895 - acc: 0.9946\n",
      "Epoch 50/100\n",
      " - 0s - loss: 0.0883 - acc: 0.9956\n",
      "Epoch 51/100\n",
      " - 0s - loss: 0.0864 - acc: 0.9956\n",
      "Epoch 52/100\n",
      " - 0s - loss: 0.0850 - acc: 0.9956\n",
      "Epoch 53/100\n",
      " - 0s - loss: 0.0837 - acc: 0.9956\n",
      "Epoch 54/100\n",
      " - 0s - loss: 0.0820 - acc: 0.9956\n",
      "Epoch 55/100\n",
      " - 0s - loss: 0.0806 - acc: 0.9956\n",
      "Epoch 56/100\n",
      " - 0s - loss: 0.0791 - acc: 0.9956\n",
      "Epoch 57/100\n",
      " - 0s - loss: 0.0780 - acc: 0.9956\n",
      "Epoch 58/100\n",
      " - 0s - loss: 0.0769 - acc: 0.9956\n",
      "Epoch 59/100\n",
      " - 0s - loss: 0.0753 - acc: 0.9956\n",
      "Epoch 60/100\n",
      " - 0s - loss: 0.0742 - acc: 0.9956\n",
      "Epoch 61/100\n",
      " - 0s - loss: 0.0728 - acc: 0.9956\n",
      "Epoch 62/100\n",
      " - 0s - loss: 0.0718 - acc: 0.9956\n",
      "Epoch 63/100\n",
      " - 0s - loss: 0.0712 - acc: 0.9956\n",
      "Epoch 64/100\n",
      " - 0s - loss: 0.0701 - acc: 0.9956\n",
      "Epoch 65/100\n",
      " - 0s - loss: 0.0685 - acc: 0.9956\n",
      "Epoch 66/100\n",
      " - 0s - loss: 0.0675 - acc: 0.9956\n",
      "Epoch 67/100\n",
      " - 0s - loss: 0.0658 - acc: 0.9956\n",
      "Epoch 68/100\n",
      " - 0s - loss: 0.0649 - acc: 0.9956\n",
      "Epoch 69/100\n",
      " - 0s - loss: 0.0639 - acc: 0.9956\n",
      "Epoch 70/100\n",
      " - 0s - loss: 0.0630 - acc: 0.9956\n",
      "Epoch 71/100\n",
      " - 0s - loss: 0.0618 - acc: 0.9956\n",
      "Epoch 72/100\n",
      " - 0s - loss: 0.0611 - acc: 0.9956\n",
      "Epoch 73/100\n",
      " - 0s - loss: 0.0601 - acc: 0.9956\n",
      "Epoch 74/100\n",
      " - 0s - loss: 0.0590 - acc: 0.9956\n",
      "Epoch 75/100\n",
      " - 0s - loss: 0.0581 - acc: 0.9956\n",
      "Epoch 76/100\n",
      " - 0s - loss: 0.0577 - acc: 0.9967\n",
      "Epoch 77/100\n",
      " - 0s - loss: 0.0565 - acc: 0.9956\n",
      "Epoch 78/100\n",
      " - 0s - loss: 0.0556 - acc: 0.9956\n",
      "Epoch 79/100\n",
      " - 0s - loss: 0.0547 - acc: 0.9956\n",
      "Epoch 80/100\n",
      " - 0s - loss: 0.0541 - acc: 0.9956\n",
      "Epoch 81/100\n",
      " - 0s - loss: 0.0536 - acc: 0.9956\n",
      "Epoch 82/100\n",
      " - 0s - loss: 0.0525 - acc: 0.9956\n",
      "Epoch 83/100\n",
      " - 0s - loss: 0.0517 - acc: 0.9956\n",
      "Epoch 84/100\n",
      " - 0s - loss: 0.0514 - acc: 0.9956\n",
      "Epoch 85/100\n",
      " - 0s - loss: 0.0502 - acc: 0.9956\n",
      "Epoch 86/100\n",
      " - 0s - loss: 0.0496 - acc: 0.9956\n",
      "Epoch 87/100\n",
      " - 0s - loss: 0.0489 - acc: 0.9967\n",
      "Epoch 88/100\n",
      " - 0s - loss: 0.0479 - acc: 0.9956\n",
      "Epoch 89/100\n",
      " - 0s - loss: 0.0474 - acc: 0.9967\n",
      "Epoch 90/100\n",
      " - 0s - loss: 0.0466 - acc: 0.9967\n",
      "Epoch 91/100\n",
      " - 0s - loss: 0.0457 - acc: 0.9978\n",
      "Epoch 92/100\n",
      " - 0s - loss: 0.0452 - acc: 0.9956\n",
      "Epoch 93/100\n",
      " - 0s - loss: 0.0448 - acc: 0.9956\n",
      "Epoch 94/100\n",
      " - 0s - loss: 0.0440 - acc: 0.9978\n",
      "Epoch 95/100\n",
      " - 0s - loss: 0.0433 - acc: 0.9978\n",
      "Epoch 96/100\n",
      " - 0s - loss: 0.0428 - acc: 0.9967\n",
      "Epoch 97/100\n",
      " - 0s - loss: 0.0421 - acc: 0.9978\n",
      "Epoch 98/100\n",
      " - 0s - loss: 0.0418 - acc: 0.9967\n",
      "Epoch 99/100\n",
      " - 0s - loss: 0.0409 - acc: 0.9978\n",
      "Epoch 100/100\n",
      " - 0s - loss: 0.0404 - acc: 0.9956\n"
     ]
    },
    {
     "data": {
      "text/plain": [
       "<keras.callbacks.History at 0x1f3cf38c7f0>"
      ]
     },
     "execution_count": 43,
     "metadata": {},
     "output_type": "execute_result"
    }
   ],
   "source": [
    "model.fit(scaled_X_train,y_train,epochs=100,verbose=2)"
   ]
  },
  {
   "cell_type": "code",
   "execution_count": 32,
   "metadata": {},
   "outputs": [],
   "source": [
    "#model.predict_classes(scaled_X_test)"
   ]
  },
  {
   "cell_type": "code",
   "execution_count": 44,
   "metadata": {},
   "outputs": [
    {
     "data": {
      "text/plain": [
       "['loss', 'acc']"
      ]
     },
     "execution_count": 44,
     "metadata": {},
     "output_type": "execute_result"
    }
   ],
   "source": [
    "model.metrics_names"
   ]
  },
  {
   "cell_type": "code",
   "execution_count": 45,
   "metadata": {},
   "outputs": [],
   "source": [
    "from sklearn.metrics import confusion_matrix, classification_report"
   ]
  },
  {
   "cell_type": "code",
   "execution_count": 46,
   "metadata": {},
   "outputs": [],
   "source": [
    "prediction = model.predict_classes(scaled_X_test)"
   ]
  },
  {
   "cell_type": "code",
   "execution_count": 47,
   "metadata": {},
   "outputs": [
    {
     "data": {
      "text/plain": [
       "array([[256,   1],\n",
       "       [  0, 196]], dtype=int64)"
      ]
     },
     "execution_count": 47,
     "metadata": {},
     "output_type": "execute_result"
    }
   ],
   "source": [
    "confusion_matrix(y_test , prediction)"
   ]
  },
  {
   "cell_type": "code",
   "execution_count": 48,
   "metadata": {},
   "outputs": [
    {
     "name": "stdout",
     "output_type": "stream",
     "text": [
      "             precision    recall  f1-score   support\n",
      "\n",
      "        0.0       1.00      1.00      1.00       257\n",
      "        1.0       0.99      1.00      1.00       196\n",
      "\n",
      "avg / total       1.00      1.00      1.00       453\n",
      "\n"
     ]
    }
   ],
   "source": [
    "print(classification_report(y_test,prediction))"
   ]
  },
  {
   "cell_type": "code",
   "execution_count": 49,
   "metadata": {},
   "outputs": [],
   "source": [
    "model.save(\"DATA/mysupermodel.h5\")"
   ]
  },
  {
   "cell_type": "code",
   "execution_count": 50,
   "metadata": {},
   "outputs": [],
   "source": [
    "from keras.models import load_model\n",
    "newmodel = load_model(\"DATA/mysupermodel.h5\")"
   ]
  },
  {
   "cell_type": "code",
   "execution_count": 51,
   "metadata": {},
   "outputs": [
    {
     "data": {
      "text/plain": [
       "array([[0],\n",
       "       [0],\n",
       "       [0],\n",
       "       [0],\n",
       "       [0],\n",
       "       [0],\n",
       "       [0],\n",
       "       [0],\n",
       "       [0],\n",
       "       [0],\n",
       "       [1],\n",
       "       [1],\n",
       "       [0],\n",
       "       [1],\n",
       "       [0],\n",
       "       [1],\n",
       "       [1],\n",
       "       [1],\n",
       "       [1],\n",
       "       [1],\n",
       "       [0],\n",
       "       [0],\n",
       "       [1],\n",
       "       [0],\n",
       "       [1],\n",
       "       [0],\n",
       "       [0],\n",
       "       [1],\n",
       "       [0],\n",
       "       [0],\n",
       "       [1],\n",
       "       [0],\n",
       "       [0],\n",
       "       [1],\n",
       "       [1],\n",
       "       [0],\n",
       "       [1],\n",
       "       [1],\n",
       "       [1],\n",
       "       [0],\n",
       "       [0],\n",
       "       [1],\n",
       "       [1],\n",
       "       [0],\n",
       "       [1],\n",
       "       [1],\n",
       "       [1],\n",
       "       [0],\n",
       "       [0],\n",
       "       [1],\n",
       "       [0],\n",
       "       [0],\n",
       "       [0],\n",
       "       [0],\n",
       "       [0],\n",
       "       [1],\n",
       "       [0],\n",
       "       [0],\n",
       "       [0],\n",
       "       [0],\n",
       "       [1],\n",
       "       [0],\n",
       "       [1],\n",
       "       [0],\n",
       "       [0],\n",
       "       [0],\n",
       "       [0],\n",
       "       [0],\n",
       "       [0],\n",
       "       [1],\n",
       "       [1],\n",
       "       [0],\n",
       "       [1],\n",
       "       [0],\n",
       "       [1],\n",
       "       [0],\n",
       "       [0],\n",
       "       [1],\n",
       "       [1],\n",
       "       [1],\n",
       "       [1],\n",
       "       [0],\n",
       "       [1],\n",
       "       [0],\n",
       "       [0],\n",
       "       [0],\n",
       "       [0],\n",
       "       [1],\n",
       "       [1],\n",
       "       [0],\n",
       "       [0],\n",
       "       [0],\n",
       "       [1],\n",
       "       [1],\n",
       "       [0],\n",
       "       [1],\n",
       "       [1],\n",
       "       [0],\n",
       "       [0],\n",
       "       [0],\n",
       "       [1],\n",
       "       [0],\n",
       "       [0],\n",
       "       [0],\n",
       "       [1],\n",
       "       [0],\n",
       "       [0],\n",
       "       [1],\n",
       "       [1],\n",
       "       [1],\n",
       "       [1],\n",
       "       [1],\n",
       "       [0],\n",
       "       [1],\n",
       "       [1],\n",
       "       [1],\n",
       "       [0],\n",
       "       [1],\n",
       "       [1],\n",
       "       [0],\n",
       "       [1],\n",
       "       [0],\n",
       "       [1],\n",
       "       [0],\n",
       "       [1],\n",
       "       [0],\n",
       "       [1],\n",
       "       [1],\n",
       "       [0],\n",
       "       [1],\n",
       "       [1],\n",
       "       [0],\n",
       "       [0],\n",
       "       [0],\n",
       "       [0],\n",
       "       [0],\n",
       "       [1],\n",
       "       [0],\n",
       "       [0],\n",
       "       [1],\n",
       "       [0],\n",
       "       [0],\n",
       "       [1],\n",
       "       [0],\n",
       "       [1],\n",
       "       [1],\n",
       "       [1],\n",
       "       [1],\n",
       "       [1],\n",
       "       [0],\n",
       "       [1],\n",
       "       [1],\n",
       "       [1],\n",
       "       [0],\n",
       "       [1],\n",
       "       [0],\n",
       "       [1],\n",
       "       [0],\n",
       "       [0],\n",
       "       [0],\n",
       "       [1],\n",
       "       [1],\n",
       "       [1],\n",
       "       [1],\n",
       "       [1],\n",
       "       [0],\n",
       "       [1],\n",
       "       [0],\n",
       "       [0],\n",
       "       [0],\n",
       "       [0],\n",
       "       [0],\n",
       "       [0],\n",
       "       [1],\n",
       "       [0],\n",
       "       [0],\n",
       "       [1],\n",
       "       [1],\n",
       "       [0],\n",
       "       [0],\n",
       "       [0],\n",
       "       [0],\n",
       "       [1],\n",
       "       [0],\n",
       "       [1],\n",
       "       [0],\n",
       "       [1],\n",
       "       [1],\n",
       "       [0],\n",
       "       [0],\n",
       "       [1],\n",
       "       [0],\n",
       "       [0],\n",
       "       [1],\n",
       "       [1],\n",
       "       [1],\n",
       "       [1],\n",
       "       [0],\n",
       "       [0],\n",
       "       [1],\n",
       "       [1],\n",
       "       [1],\n",
       "       [0],\n",
       "       [0],\n",
       "       [1],\n",
       "       [1],\n",
       "       [1],\n",
       "       [1],\n",
       "       [0],\n",
       "       [0],\n",
       "       [0],\n",
       "       [0],\n",
       "       [0],\n",
       "       [0],\n",
       "       [0],\n",
       "       [0],\n",
       "       [0],\n",
       "       [0],\n",
       "       [1],\n",
       "       [1],\n",
       "       [1],\n",
       "       [1],\n",
       "       [1],\n",
       "       [0],\n",
       "       [1],\n",
       "       [0],\n",
       "       [0],\n",
       "       [1],\n",
       "       [1],\n",
       "       [1],\n",
       "       [1],\n",
       "       [0],\n",
       "       [1],\n",
       "       [0],\n",
       "       [1],\n",
       "       [1],\n",
       "       [1],\n",
       "       [1],\n",
       "       [0],\n",
       "       [0],\n",
       "       [0],\n",
       "       [1],\n",
       "       [0],\n",
       "       [1],\n",
       "       [1],\n",
       "       [1],\n",
       "       [0],\n",
       "       [0],\n",
       "       [0],\n",
       "       [0],\n",
       "       [0],\n",
       "       [0],\n",
       "       [1],\n",
       "       [0],\n",
       "       [1],\n",
       "       [0],\n",
       "       [0],\n",
       "       [0],\n",
       "       [1],\n",
       "       [1],\n",
       "       [0],\n",
       "       [0],\n",
       "       [0],\n",
       "       [1],\n",
       "       [1],\n",
       "       [0],\n",
       "       [1],\n",
       "       [0],\n",
       "       [1],\n",
       "       [1],\n",
       "       [1],\n",
       "       [1],\n",
       "       [0],\n",
       "       [0],\n",
       "       [0],\n",
       "       [0],\n",
       "       [0],\n",
       "       [1],\n",
       "       [0],\n",
       "       [0],\n",
       "       [1],\n",
       "       [0],\n",
       "       [1],\n",
       "       [0],\n",
       "       [0],\n",
       "       [1],\n",
       "       [0],\n",
       "       [0],\n",
       "       [0],\n",
       "       [0],\n",
       "       [0],\n",
       "       [1],\n",
       "       [1],\n",
       "       [0],\n",
       "       [1],\n",
       "       [0],\n",
       "       [1],\n",
       "       [1],\n",
       "       [0],\n",
       "       [0],\n",
       "       [0],\n",
       "       [0],\n",
       "       [0],\n",
       "       [0],\n",
       "       [0],\n",
       "       [1],\n",
       "       [1],\n",
       "       [1],\n",
       "       [0],\n",
       "       [0],\n",
       "       [1],\n",
       "       [1],\n",
       "       [0],\n",
       "       [0],\n",
       "       [0],\n",
       "       [0],\n",
       "       [0],\n",
       "       [0],\n",
       "       [1],\n",
       "       [0],\n",
       "       [1],\n",
       "       [1],\n",
       "       [1],\n",
       "       [0],\n",
       "       [0],\n",
       "       [0],\n",
       "       [0],\n",
       "       [1],\n",
       "       [0],\n",
       "       [0],\n",
       "       [0],\n",
       "       [0],\n",
       "       [0],\n",
       "       [0],\n",
       "       [0],\n",
       "       [1],\n",
       "       [0],\n",
       "       [1],\n",
       "       [1],\n",
       "       [1],\n",
       "       [1],\n",
       "       [0],\n",
       "       [1],\n",
       "       [1],\n",
       "       [0],\n",
       "       [1],\n",
       "       [1],\n",
       "       [0],\n",
       "       [0],\n",
       "       [1],\n",
       "       [0],\n",
       "       [0],\n",
       "       [1],\n",
       "       [0],\n",
       "       [1],\n",
       "       [0],\n",
       "       [1],\n",
       "       [1],\n",
       "       [0],\n",
       "       [0],\n",
       "       [1],\n",
       "       [0],\n",
       "       [0],\n",
       "       [0],\n",
       "       [0],\n",
       "       [0],\n",
       "       [0],\n",
       "       [1],\n",
       "       [0],\n",
       "       [0],\n",
       "       [1],\n",
       "       [0],\n",
       "       [0],\n",
       "       [0],\n",
       "       [0],\n",
       "       [1],\n",
       "       [1],\n",
       "       [0],\n",
       "       [1],\n",
       "       [0],\n",
       "       [1],\n",
       "       [1],\n",
       "       [1],\n",
       "       [0],\n",
       "       [1],\n",
       "       [1],\n",
       "       [0],\n",
       "       [1],\n",
       "       [1],\n",
       "       [0],\n",
       "       [1],\n",
       "       [0],\n",
       "       [0],\n",
       "       [0],\n",
       "       [1],\n",
       "       [1],\n",
       "       [1],\n",
       "       [0],\n",
       "       [0],\n",
       "       [0],\n",
       "       [0],\n",
       "       [1],\n",
       "       [0],\n",
       "       [0],\n",
       "       [1],\n",
       "       [1],\n",
       "       [1],\n",
       "       [1],\n",
       "       [0],\n",
       "       [1],\n",
       "       [0],\n",
       "       [0],\n",
       "       [1],\n",
       "       [1],\n",
       "       [0],\n",
       "       [1],\n",
       "       [0],\n",
       "       [1],\n",
       "       [0],\n",
       "       [0],\n",
       "       [0],\n",
       "       [1],\n",
       "       [1],\n",
       "       [0],\n",
       "       [0],\n",
       "       [0],\n",
       "       [1],\n",
       "       [0],\n",
       "       [0],\n",
       "       [1],\n",
       "       [0],\n",
       "       [0],\n",
       "       [0],\n",
       "       [0],\n",
       "       [1],\n",
       "       [0],\n",
       "       [1],\n",
       "       [0],\n",
       "       [0],\n",
       "       [1],\n",
       "       [0],\n",
       "       [0],\n",
       "       [0],\n",
       "       [0],\n",
       "       [0],\n",
       "       [0],\n",
       "       [1],\n",
       "       [1],\n",
       "       [0],\n",
       "       [0],\n",
       "       [0],\n",
       "       [0],\n",
       "       [0]])"
      ]
     },
     "execution_count": 51,
     "metadata": {},
     "output_type": "execute_result"
    }
   ],
   "source": [
    "newmodel.predict_classes(scaled_X_test)"
   ]
  },
  {
   "cell_type": "code",
   "execution_count": null,
   "metadata": {},
   "outputs": [],
   "source": []
  }
 ],
 "metadata": {
  "kernelspec": {
   "display_name": "Python 3",
   "language": "python",
   "name": "python3"
  },
  "language_info": {
   "codemirror_mode": {
    "name": "ipython",
    "version": 3
   },
   "file_extension": ".py",
   "mimetype": "text/x-python",
   "name": "python",
   "nbconvert_exporter": "python",
   "pygments_lexer": "ipython3",
   "version": "3.6.6"
  }
 },
 "nbformat": 4,
 "nbformat_minor": 2
}
